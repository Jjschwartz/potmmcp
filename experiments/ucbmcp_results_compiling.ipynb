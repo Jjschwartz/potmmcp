{
 "cells": [
  {
   "cell_type": "code",
   "execution_count": 1,
   "id": "5146e1eb",
   "metadata": {},
   "outputs": [],
   "source": [
    "import os\n",
    "import shutil\n",
    "import os.path as osp\n",
    "from pprint import pprint\n",
    "\n",
    "import pandas as pd\n",
    "\n",
    "results_dir = \"/home/jonathon/baposgmcp_results/LBF10x10-n2-f7-static-v2/\"\n",
    "output_dir = \"/home/jonathon/baposgmcp_results/LBF10x10-n2-f7-static-v2/cleaned\"\n",
    "\n",
    "assert results_dir != output_dir\n",
    "try:\n",
    "    os.makedirs(output_dir, exist_ok=False)\n",
    "except OSError:\n",
    "    # make clean dir\n",
    "    shutil.rmtree(output_dir)\n",
    "    os.makedirs(output_dir, exist_ok=False)\n",
    "\n",
    "new_dir_prefix = \"ucbmcp_exp\"\n",
    "old_dir_prefix = \"exp\""
   ]
  },
  {
   "cell_type": "code",
   "execution_count": 2,
   "id": "123d9f25",
   "metadata": {},
   "outputs": [
    {
     "name": "stdout",
     "output_type": "stream",
     "text": [
      "Ignoring exp dir: cleaned\n",
      "old_dirs: ['exp_36733_seed2', 'exp_36688_seed1', 'exp_36641_seed0']\n",
      "new_dirs: ['ucbmcp_exp_36766_seed0']\n",
      "Matching experiment seed: ucbmcp_exp_36766_seed0 exp_36641_seed0\n",
      "{'ucbmcp_exp_36766_seed0': 'exp_36641_seed0'}\n"
     ]
    }
   ],
   "source": [
    "# need to replace the exp_X.csv, exp_X_episodes.csv, exp_X.log in the old dir\n",
    "# with the corresponding exp_Y.csv, exp_Y_episodes.csv, exp_Y.log from the new dir\n",
    "# and change the \"exp_id\" value from Y to X in the new ,csv files (ignore the log)\n",
    "\n",
    "# start by getting all the old and new dirs\n",
    "old_dirs = []\n",
    "new_dirs = []\n",
    "for exp_dir in os.listdir(results_dir):\n",
    "    if exp_dir.startswith(old_dir_prefix):\n",
    "        old_dirs.append(exp_dir)\n",
    "    elif exp_dir.startswith(new_dir_prefix):\n",
    "        new_dirs.append(exp_dir)\n",
    "    else:\n",
    "        print(f\"Ignoring exp dir: {exp_dir}\")\n",
    "        \n",
    "print(\"old_dirs:\", old_dirs)\n",
    "print(\"new_dirs:\", new_dirs)\n",
    "\n",
    "# Next we keep only old dirs that match a new dir seed\n",
    "# and we copy these old dirs to the output dir\n",
    "# (this will be the version we update, leaving the original version unchanged)\n",
    "new_old_dirs_map = {}\n",
    "for new_dir in new_dirs:\n",
    "    seed = [s for s in new_dir.split(\"_\") if s.startswith(\"seed\")][0]\n",
    "    old_dir = [d for d in old_dirs if any(s == seed for s in d.split(\"_\"))]\n",
    "    if len(old_dir) == 0:\n",
    "        print(f\"No matching exp for {seed}\")\n",
    "        continue\n",
    "    old_dir = old_dir[0]\n",
    "    print(\"Matching experiment seed:\", new_dir, old_dir)\n",
    "    new_old_dirs_map[new_dir] = old_dir\n",
    "    \n",
    "    # copy old dir to output parent dir \n",
    "    shutil.copytree(osp.join(results_dir, old_dir), osp.join(output_dir, old_dir))\n",
    "    \n",
    "print(new_old_dirs_map)"
   ]
  },
  {
   "cell_type": "code",
   "execution_count": 3,
   "id": "c9b270f9",
   "metadata": {},
   "outputs": [],
   "source": [
    "# We can match experiments using the policy_id to each agent\n",
    "# For each new dir (i.e. exp seed)\n",
    "def get_exp_map(parent_dir: str, exp_dir: str):\n",
    "    # get actual results dir <result_dir>/<new_dir>/<baposgmcp_init...>\n",
    "    assert len(os.listdir(osp.join(parent_dir, exp_dir))) == 1\n",
    "    sub_dir = os.listdir(osp.join(parent_dir, exp_dir))[0]\n",
    "    \n",
    "    # get map from (policy_id_0, policy_id_1, ...) to exp_id and files\n",
    "    exp_map = {}\n",
    "    for dirpath, dirnames, filenames in os.walk(osp.join(parent_dir, exp_dir, sub_dir)):\n",
    "        for fname in filenames:\n",
    "            if not (fname.startswith(\"exp\") and fname.endswith(\".csv\") and not fname.endswith(\"_episodes.csv\")):\n",
    "                continue\n",
    "            exp_id = int(fname.split(\".\")[0].split(\"_\")[1])\n",
    "            \n",
    "            exp_df = pd.read_csv(osp.join(dirpath, fname))\n",
    "            agent_ids = exp_df[\"agent_id\"].unique().tolist()\n",
    "            agent_ids.sort()\n",
    "            \n",
    "            policy_ids = [exp_df[exp_df[\"agent_id\"] == i][\"policy_id\"].unique().tolist() for i in agent_ids]\n",
    "            assert all(len(pi_ids) == 1 for pi_ids in policy_ids), f\"More than one policy for an agent: {policy_ids}\"\n",
    "            policy_ids = [pi_ids[0] for pi_ids in policy_ids]\n",
    "            exp_map[tuple(policy_ids)] = {\n",
    "                \"exp_id\": exp_id, \n",
    "                \"fpaths\": {\n",
    "                    \"csv\": osp.join(dirpath, fname),\n",
    "                    \"episodes.csv\": osp.join(dirpath, f\"exp_{exp_id}_episodes.csv\"),\n",
    "                    \"log\": osp.join(dirpath, f\"exp_{exp_id}.log\"),\n",
    "                }\n",
    "            }\n",
    "            \n",
    "    return exp_map"
   ]
  },
  {
   "cell_type": "code",
   "execution_count": 6,
   "id": "61bac830",
   "metadata": {},
   "outputs": [],
   "source": [
    "def replace_results(new_dir: str):\n",
    "    old_dir = new_old_dirs_map[new_dir]\n",
    "    print(f\"Replacing exps from {old_dir} with {new_dir}\")\n",
    "    new_exp_map = get_exp_map(results_dir, new_dir)\n",
    "    old_exp_map = get_exp_map(output_dir, old_dir)\n",
    "    \n",
    "    # for each new exp\n",
    "    for policy_ids, new_exp_info in new_exp_map.items():\n",
    "        old_exp_info = old_exp_map[policy_ids]\n",
    "        old_exp_id = old_exp_info[\"exp_id\"]\n",
    "        # replace each old exp file with the new exp file\n",
    "        for ext in new_exp_info[\"fpaths\"]:\n",
    "            new_file = new_exp_info['fpaths'][ext]\n",
    "            old_file = old_exp_info['fpaths'][ext]\n",
    "            shutil.copy(new_file, old_file)\n",
    "            \n",
    "            # update the exp_id within the copied new file (i.e. now at location of old file) \n",
    "            # to match the exp id in the OG old file\n",
    "            if ext in (\"csv\", \"episodes.csv\"):\n",
    "                exp_df = pd.read_csv(old_file)\n",
    "                exp_df[\"exp_id\"] = old_exp_id\n",
    "                exp_df.to_csv(old_file, index=False)"
   ]
  },
  {
   "cell_type": "code",
   "execution_count": 7,
   "id": "e0b79b98",
   "metadata": {},
   "outputs": [
    {
     "name": "stdout",
     "output_type": "stream",
     "text": [
      "Replacing exps from exp_36641_seed0 with ucbmcp_exp_36766_seed0\n"
     ]
    }
   ],
   "source": [
    "for new_dir in new_old_dirs_map:\n",
    "    replace_results(new_dir)"
   ]
  },
  {
   "cell_type": "code",
   "execution_count": null,
   "id": "b35ebaaa",
   "metadata": {},
   "outputs": [],
   "source": []
  }
 ],
 "metadata": {
  "kernelspec": {
   "display_name": "ba-posgmcp",
   "language": "python",
   "name": "ba-posgmcp"
  },
  "language_info": {
   "codemirror_mode": {
    "name": "ipython",
    "version": 3
   },
   "file_extension": ".py",
   "mimetype": "text/x-python",
   "name": "python",
   "nbconvert_exporter": "python",
   "pygments_lexer": "ipython3",
   "version": "3.8.13"
  }
 },
 "nbformat": 4,
 "nbformat_minor": 5
}
