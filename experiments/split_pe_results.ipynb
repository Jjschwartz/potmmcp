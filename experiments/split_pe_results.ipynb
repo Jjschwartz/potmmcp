{
 "cells": [
  {
   "cell_type": "markdown",
   "id": "52fb19a0",
   "metadata": {},
   "source": [
    "Script for splitting results for Pursuit Evastion env into seperate result files for evader and pursuer."
   ]
  },
  {
   "cell_type": "code",
   "execution_count": null,
   "id": "f88f6512",
   "metadata": {},
   "outputs": [],
   "source": [
    "import os.path as osp\n",
    "\n",
    "import pandas as pd\n",
    "\n",
    "from potmmcp.config import BASE_REPO_DIR\n",
    "\n",
    "ENV_RESULT_DIR = osp.join(BASE_REPO_DIR, \"experiments\", \"results\", \"pe_both\")\n",
    "baseline_results_file = osp.join(ENV_RESULT_DIR, \"baseline_experiment_results.csv\")\n",
    "meta_results_file = osp.join(ENV_RESULT_DIR, \"meta_experiment_results.csv\")"
   ]
  },
  {
   "cell_type": "code",
   "execution_count": null,
   "id": "cfbeb0b5",
   "metadata": {},
   "outputs": [],
   "source": [
    "def display_df_info(df, display_columns: bool = False):\n",
    "    print(\"\\nDF info\")\n",
    "    print(\"-------\")\n",
    "    \n",
    "    for k in [\"agent_id\"]:\n",
    "        values = df[k].unique().tolist()\n",
    "        values.sort()\n",
    "        print(f\"{k}: {values}\")\n",
    "    \n",
    "    policy_ids = df[\"policy_id\"].unique().tolist()\n",
    "    policy_ids.sort()\n",
    "    print(\"\\nPolicies\")\n",
    "    print(\"--------\")\n",
    "    for pi_id in policy_ids:\n",
    "        print(pi_id)\n",
    "    \n",
    "    if display_columns:\n",
    "        print(\"\\nColumns\")\n",
    "        print(\"-------\")\n",
    "        for c in df.columns:\n",
    "            print(c)\n",
    "            \n",
    "            \n",
    "def split_by_agent(df, file_name):\n",
    "    co_player_policies = [\n",
    "        \"PursuitEvasion16x16-v0/klr_k0_seed0_i0-v0\",\n",
    "        \"PursuitEvasion16x16-v0/klr_k0_seed0_i1-v0\",\n",
    "        \"PursuitEvasion16x16-v0/klr_k1_seed0_i0-v0\",\n",
    "        \"PursuitEvasion16x16-v0/klr_k1_seed0_i1-v0\",\n",
    "        \"PursuitEvasion16x16-v0/klr_k2_seed0_i0-v0\",\n",
    "        \"PursuitEvasion16x16-v0/klr_k2_seed0_i1-v0\",\n",
    "        \"PursuitEvasion16x16-v0/klr_k3_seed0_i0-v0\",\n",
    "        \"PursuitEvasion16x16-v0/klr_k3_seed0_i1-v0\",\n",
    "        \"PursuitEvasion16x16-v0/klr_k4_seed0_i0-v0\",\n",
    "        \"PursuitEvasion16x16-v0/klr_k4_seed0_i1-v0\",\n",
    "    ]\n",
    "    \n",
    "    df_0_exp_ids = df[(df[\"agent_id\"] == 1) & (df[\"policy_id\"].isin(co_player_policies))][\"exp_id\"].tolist()\n",
    "    df_1_exp_ids = df[(df[\"agent_id\"] == 0) & (df[\"policy_id\"].isin(co_player_policies))][\"exp_id\"].tolist()\n",
    "    \n",
    "    df_0 = df[df[\"exp_id\"].isin(df_0_exp_ids)]\n",
    "    df_1 = df[df[\"exp_id\"].isin(df_1_exp_ids)]\n",
    "    \n",
    "    print(\"writing to\", osp.join(ENV_RESULT_DIR, f\"i0_{file_name}\"))\n",
    "    df_0.to_csv(osp.join(ENV_RESULT_DIR, f\"i0_{file_name}\"))\n",
    "    df_1.to_csv(osp.join(ENV_RESULT_DIR, f\"i1_{file_name}\"))\n",
    "    "
   ]
  },
  {
   "cell_type": "code",
   "execution_count": null,
   "id": "d24509dd",
   "metadata": {
    "scrolled": true
   },
   "outputs": [],
   "source": [
    "baseline_df = pd.read_csv(baseline_results_file)\n",
    "display_df_info(baseline_df)"
   ]
  },
  {
   "cell_type": "code",
   "execution_count": null,
   "id": "74c0ca88",
   "metadata": {},
   "outputs": [],
   "source": [
    "split_by_agent(baseline_df, \"baseline_experiment_results.csv\")"
   ]
  },
  {
   "cell_type": "code",
   "execution_count": null,
   "id": "53cde7ba",
   "metadata": {},
   "outputs": [],
   "source": [
    "baseline_df_0 = pd.read_csv(osp.join(ENV_RESULT_DIR, f\"i0_baseline_experiment_results.csv\"))\n",
    "baseline_df_0 = baseline_df_0[baseline_df_0[\"agent_id\"] == 0]\n",
    "                            \n",
    "display_df_info(baseline_df_0)"
   ]
  },
  {
   "cell_type": "code",
   "execution_count": null,
   "id": "422a0640",
   "metadata": {},
   "outputs": [],
   "source": [
    "baseline_df_1 = pd.read_csv(osp.join(ENV_RESULT_DIR, f\"i1_baseline_experiment_results.csv\"))\n",
    "baseline_df_1 = baseline_df_1[baseline_df_1[\"agent_id\"] == 1]\n",
    "                            \n",
    "display_df_info(baseline_df_1)"
   ]
  },
  {
   "cell_type": "code",
   "execution_count": null,
   "id": "6a3b6f26",
   "metadata": {},
   "outputs": [],
   "source": [
    "meta_df = pd.read_csv(meta_results_file)\n",
    "display_df_info(meta_df)"
   ]
  },
  {
   "cell_type": "code",
   "execution_count": null,
   "id": "1e4e02f3",
   "metadata": {},
   "outputs": [],
   "source": [
    "split_by_agent(meta_df, \"meta_experiment_results.csv\")"
   ]
  },
  {
   "cell_type": "code",
   "execution_count": null,
   "id": "86409732",
   "metadata": {},
   "outputs": [],
   "source": [
    "meta_df_0 = pd.read_csv(osp.join(ENV_RESULT_DIR, f\"i0_meta_experiment_results.csv\"))\n",
    "# meta_df_0 = meta_df_0[meta_df_0[\"agent_id\"] == 0]\n",
    "                            \n",
    "display_df_info(meta_df_0)"
   ]
  },
  {
   "cell_type": "code",
   "execution_count": null,
   "id": "a7dc7bf8",
   "metadata": {
    "scrolled": true
   },
   "outputs": [],
   "source": [
    "meta_df_1 = pd.read_csv(osp.join(ENV_RESULT_DIR, f\"i1_meta_experiment_results.csv\"))\n",
    "                            \n",
    "display_df_info(meta_df_1)"
   ]
  },
  {
   "cell_type": "code",
   "execution_count": null,
   "id": "79030361",
   "metadata": {},
   "outputs": [],
   "source": []
  }
 ],
 "metadata": {
  "kernelspec": {
   "display_name": "potmmcp",
   "language": "python",
   "name": "potmmcp"
  },
  "language_info": {
   "codemirror_mode": {
    "name": "ipython",
    "version": 3
   },
   "file_extension": ".py",
   "mimetype": "text/x-python",
   "name": "python",
   "nbconvert_exporter": "python",
   "pygments_lexer": "ipython3",
   "version": "3.8.16"
  }
 },
 "nbformat": 4,
 "nbformat_minor": 5
}
